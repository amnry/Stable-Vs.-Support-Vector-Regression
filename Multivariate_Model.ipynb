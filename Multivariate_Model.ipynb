{
 "cells": [
  {
   "cell_type": "code",
   "execution_count": 8,
   "metadata": {},
   "outputs": [],
   "source": [
    "import numpy as np\n",
    "import pandas as pd\n",
    "from sklearn.model_selection import train_test_split\n",
    "import matplotlib.pyplot as plt\n",
    "import os\n",
    "os.add_dll_directory('C:\\Aorda\\PSG\\lib')\n",
    "import psgpython as psg\n",
    "import random\n",
    "import yfinance as yf\n",
    "%matplotlib inline\n",
    "from sklearn.svm import NuSVR\n",
    "\n",
    "allowExternal = True\n",
    "suppressMessages = True\n",
    "\n",
    "np.random.seed(42)\n",
    "\n",
    "N = 1000\n",
    "D = 4 \n",
    "\n",
    "X = np.random.uniform(0,10, size=(N,D))\n",
    "true_coeff = np.array([2.0,-3.5,1.0,4.0])\n",
    "noise = np.random.normal(0,1,N)\n",
    "y = X @ true_coeff + noise"
   ]
  },
  {
   "cell_type": "code",
   "execution_count": 19,
   "metadata": {},
   "outputs": [],
   "source": [
    "alpha = .6\n",
    "c = 1\n",
    "\n",
    "nusvr_model = NuSVR(kernel = 'linear', C=c, nu = 1-alpha, tol=1e-7, gamma='auto')\n",
    "nusvr_model.fit(X, y)\n",
    "\n",
    "nusvr_coeff = nusvr_model.coef_[0]\n",
    "intercept = nusvr_model.intercept_[0]"
   ]
  },
  {
   "cell_type": "markdown",
   "metadata": {},
   "source": [
    "## PSG"
   ]
  },
  {
   "cell_type": "code",
   "execution_count": 11,
   "metadata": {},
   "outputs": [],
   "source": [
    "x1 = np.ones((X.shape[0], 1))\n",
    "matrix_scenarios_body = np.column_stack((x1, X, y.reshape(-1,1)))\n",
    "header_primal = [\"x0\"]+[f\"x{i+1}\" for i in range(D)]\n",
    "matrix_scenarios = [header_primal +[\"scenario_benchmark\"], matrix_scenarios_body]\n",
    "\n",
    "reg = 1/(2*c*X.shape[0])\n",
    "matrix_quadratic_body = np.zeros((D+1, D+1))\n",
    "matrix_quadratic_body[1:,1:] = reg\n",
    "matrix_quadratic = [header_primal, matrix_quadratic_body]\n"
   ]
  },
  {
   "cell_type": "code",
   "execution_count": 12,
   "metadata": {},
   "outputs": [
    {
     "name": "stdout",
     "output_type": "stream",
     "text": [
      "Problem: problem_1, solution_status = optimal\n",
      "Timing: data_loading_time = 0.10, preprocessing_time = 0.01, solving_time = 0.01\n",
      "Variables: optimal_point = point_problem_1\n",
      "Objective: objective = 0.576155687021 [3.330669073875E-16]\n",
      "Function: cvar_risk(0.6,abs(matrix_scenarios)) =  1.425333549698E+00\n",
      "Function: quadratic(matrix_quadratic) =  6.022267141694E-03\n",
      "Function: var_risk(0.6,abs(matrix_scenarios)) =  8.733609503508E-01\n",
      "OK. Solver Finished\n",
      "\n"
     ]
    }
   ],
   "source": [
    "problem_name_p = \"problem_multivariate\"\n",
    "problem_statement_p = \"minimize\\n\\\n",
    "%f\" % (1-alpha) + \"*cvar_risk(\" + \"%f\" % (alpha) + \",abs(matrix_scenarios))\\n\\\n",
    "+quadratic(matrix_quadratic)\\n\\\n",
    "Value: \\n\\\n",
    "var_risk(\" + \"%f\" % (alpha) + \",abs(matrix_scenarios))\\n\\\n",
    "Solver: van\"\n",
    "problem_dictionary_primal = {'problem_name': problem_name_p, 'problem_statement': problem_statement_p,\n",
    "                             'matrix_scenarios': matrix_scenarios, 'matrix_quadratic': matrix_quadratic}\n",
    "\n",
    "# Optimization Output\n",
    "res_primal = psg.psg_solver(problem_dictionary_primal, allowExternal, suppressMessages)"
   ]
  },
  {
   "cell_type": "markdown",
   "metadata": {},
   "source": [
    "## Results"
   ]
  },
  {
   "cell_type": "markdown",
   "metadata": {},
   "source": [
    "#### PSG/CVaR Regression"
   ]
  },
  {
   "cell_type": "markdown",
   "metadata": {},
   "source": [
    "##### CVaR Coefficients"
   ]
  },
  {
   "cell_type": "code",
   "execution_count": 13,
   "metadata": {},
   "outputs": [
    {
     "data": {
      "text/plain": [
       "array([ 1.99292758, -3.52867739,  0.98788926,  4.01838419])"
      ]
     },
     "execution_count": 13,
     "metadata": {},
     "output_type": "execute_result"
    }
   ],
   "source": [
    "res_primal['point_problem_1'][1][1:]"
   ]
  },
  {
   "cell_type": "markdown",
   "metadata": {},
   "source": [
    "##### CVaR Intercept"
   ]
  },
  {
   "cell_type": "code",
   "execution_count": 15,
   "metadata": {},
   "outputs": [
    {
     "data": {
      "text/plain": [
       "0.13962107610377297"
      ]
     },
     "execution_count": 15,
     "metadata": {},
     "output_type": "execute_result"
    }
   ],
   "source": [
    "res_primal['point_problem_1'][1][0]"
   ]
  },
  {
   "cell_type": "markdown",
   "metadata": {},
   "source": [
    "##### NuSVR Coefficients"
   ]
  },
  {
   "cell_type": "code",
   "execution_count": 14,
   "metadata": {},
   "outputs": [
    {
     "data": {
      "text/plain": [
       "array([ 1.99379647, -3.52810274,  0.98760498,  4.01559553])"
      ]
     },
     "execution_count": 14,
     "metadata": {},
     "output_type": "execute_result"
    }
   ],
   "source": [
    "nusvr_coeff"
   ]
  },
  {
   "cell_type": "markdown",
   "metadata": {},
   "source": [
    "##### NuSVR Intercept"
   ]
  },
  {
   "cell_type": "code",
   "execution_count": 20,
   "metadata": {},
   "outputs": [
    {
     "data": {
      "text/plain": [
       "0.1502509449730346"
      ]
     },
     "execution_count": 20,
     "metadata": {},
     "output_type": "execute_result"
    }
   ],
   "source": [
    "intercept"
   ]
  }
 ],
 "metadata": {
  "kernelspec": {
   "display_name": "Python 3",
   "language": "python",
   "name": "python3"
  },
  "language_info": {
   "codemirror_mode": {
    "name": "ipython",
    "version": 3
   },
   "file_extension": ".py",
   "mimetype": "text/x-python",
   "name": "python",
   "nbconvert_exporter": "python",
   "pygments_lexer": "ipython3",
   "version": "3.11.4"
  }
 },
 "nbformat": 4,
 "nbformat_minor": 2
}
